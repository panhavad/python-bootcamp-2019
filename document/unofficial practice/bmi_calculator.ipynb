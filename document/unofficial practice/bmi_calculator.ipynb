{
 "cells": [
  {
   "cell_type": "code",
   "execution_count": 2,
   "metadata": {},
   "outputs": [
    {
     "name": "stdout",
     "output_type": "stream",
     "text": [
      "The person name  VAD  has BMI of  18.069727891156464  is NOT OVER WEIGHT.\n"
     ]
    }
   ],
   "source": [
    "#input\n",
    "name = \"VAD\"\n",
    "weight_kg = 51\n",
    "height_m = 1.68\n",
    "\n",
    "#calculation\n",
    "bmi = weight_kg / (height_m ** 2)\n",
    "\n",
    "#condition\n",
    "if bmi <= 25:\n",
    "    print(\"The person name \", name, \" has BMI of \", bmi, \" is NOT OVER WEIGHT.\")\n",
    "else:\n",
    "    print(\"The person name \", name, \" has BMI of \", bmi, \" is OVER WEIGHT.\")    "
   ]
  },
  {
   "cell_type": "code",
   "execution_count": null,
   "metadata": {},
   "outputs": [],
   "source": []
  }
 ],
 "metadata": {
  "kernelspec": {
   "display_name": "Python 3",
   "language": "python",
   "name": "python3"
  },
  "language_info": {
   "codemirror_mode": {
    "name": "ipython",
    "version": 3
   },
   "file_extension": ".py",
   "mimetype": "text/x-python",
   "name": "python",
   "nbconvert_exporter": "python",
   "pygments_lexer": "ipython3",
   "version": "3.7.3"
  }
 },
 "nbformat": 4,
 "nbformat_minor": 2
}
