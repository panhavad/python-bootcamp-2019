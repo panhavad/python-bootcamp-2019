{
 "cells": [
  {
   "cell_type": "code",
   "execution_count": 14,
   "metadata": {},
   "outputs": [],
   "source": [
    "class Robot:\n",
    "    #constructor\n",
    "    def __init__(self, name, gender, origin):\n",
    "        self.name = name\n",
    "        self.gender = gender\n",
    "        self.origin = origin\n",
    "    #presentation function\n",
    "    def introduce_self(self):\n",
    "        print(\"My name is\", self.name)\n",
    "        print(\"I am\", self.gender)\n",
    "        print(\"I am from\", self.origin)"
   ]
  },
  {
   "cell_type": "code",
   "execution_count": 15,
   "metadata": {},
   "outputs": [],
   "source": [
    "#assign value using constructor\n",
    "r1 = Robot(\"Lyly\", \"Female\", \"Cambodia\")\n",
    "r2 = Robot(\"Katama\", \"Male\", \"Japaneses\")"
   ]
  },
  {
   "cell_type": "code",
   "execution_count": 16,
   "metadata": {},
   "outputs": [
    {
     "name": "stdout",
     "output_type": "stream",
     "text": [
      "My name is Lyly\n",
      "I am Female\n",
      "I am from Cambodia\n",
      "My name is Katama\n",
      "I am Male\n",
      "I am from Japaneses\n"
     ]
    }
   ],
   "source": [
    "#funtion calling\n",
    "r1.introduce_self()\n",
    "r2.introduce_self()"
   ]
  },
  {
   "cell_type": "code",
   "execution_count": null,
   "metadata": {},
   "outputs": [],
   "source": []
  }
 ],
 "metadata": {
  "kernelspec": {
   "display_name": "Python 3",
   "language": "python",
   "name": "python3"
  },
  "language_info": {
   "codemirror_mode": {
    "name": "ipython",
    "version": 3
   },
   "file_extension": ".py",
   "mimetype": "text/x-python",
   "name": "python",
   "nbconvert_exporter": "python",
   "pygments_lexer": "ipython3",
   "version": "3.7.3"
  }
 },
 "nbformat": 4,
 "nbformat_minor": 2
}
