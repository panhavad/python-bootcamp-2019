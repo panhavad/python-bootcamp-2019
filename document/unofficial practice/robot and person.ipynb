{
 "cells": [
  {
   "cell_type": "code",
   "execution_count": null,
   "metadata": {},
   "outputs": [],
   "source": [
    "#robot class\n",
    "#constructor and presentation function\n",
    "class Robot:\n",
    "    #constructor\n",
    "    def __init__(self, name, gender, origin):\n",
    "        self.name = name\n",
    "        self.gender = gender\n",
    "        self.origin = origin\n",
    "        \n",
    "    #self presentation funtion\n",
    "    def introduce_self(self):\n",
    "        print(\"My name is\", self.name)\n",
    "        print(\"I am\", self.gender)\n",
    "        print(\"I am from\", self.origin)\n",
    "        \n",
    "#person class\n",
    "#constructor, presentation function, sitting_state function\n",
    "class Person:\n",
    "    #constructor\n",
    "    def __init__(self, name, gender, age, sitting_state, robot_owner):\n",
    "        self.name = name\n",
    "        self.gender = gender\n",
    "        self.age = age\n",
    "        self.sitting_state = sitting_state\n",
    "        self.robot_owner = robot_owner\n",
    "        \n",
    "    #sitting_state false function\n",
    "    def sitting_state_false(self):\n",
    "        self.sitting_state = False\n",
    "    \n",
    "    #sitting_state true function\n",
    "    def sitting_state_true(self):\n",
    "        self.sitting_state = True\n",
    "        \n",
    "    #self presentation function\n",
    "    def introduce_self(self):\n",
    "        print(\"My name is\", self.name)\n",
    "        print(\"I am\", self.gender)\n",
    "        print(\"I am\", self.age)\n",
    "        #check for sitting state of particular person\n",
    "        if self.sitting_state:\n",
    "            print(\"I am SITTING now\")\n",
    "        else:\n",
    "            print(\"I am NOT SITTING now\")\n",
    "        \n",
    "        print(\"I own robot call\", self.robot_owner.name)"
   ]
  },
  {
   "cell_type": "code",
   "execution_count": null,
   "metadata": {},
   "outputs": [],
   "source": [
    "#value assignment of robot\n",
    "robot1 = Robot(\"LYLY\", \"FEMALE\", \"CAMBODIA\")\n",
    "robot2 = Robot(\"MATSU\", \"MALE\", \"JAPAN\")\n",
    "\n",
    "#value assignment of person\n",
    "person1 = Person(\"ALIS\", \"FEMALE\", 21, False, robot2)\n",
    "person2 = Person(\"VAD\", \"MALE\", 20, True, robot1)"
   ]
  },
  {
   "cell_type": "code",
   "execution_count": null,
   "metadata": {},
   "outputs": [],
   "source": [
    "person1.sitting_state_false()"
   ]
  },
  {
   "cell_type": "code",
   "execution_count": null,
   "metadata": {},
   "outputs": [],
   "source": [
    "#presentation execution for output\n",
    "person1.introduce_self()\n",
    "print(\"-------------\")\n",
    "person2.introduce_self()"
   ]
  }
 ],
 "metadata": {
  "kernelspec": {
   "display_name": "Python 3",
   "language": "python",
   "name": "python3"
  },
  "language_info": {
   "codemirror_mode": {
    "name": "ipython",
    "version": 3
   },
   "file_extension": ".py",
   "mimetype": "text/x-python",
   "name": "python",
   "nbconvert_exporter": "python",
   "pygments_lexer": "ipython3",
   "version": "3.7.3"
  }
 },
 "nbformat": 4,
 "nbformat_minor": 2
}
