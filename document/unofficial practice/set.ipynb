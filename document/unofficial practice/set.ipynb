{
 "cells": [
  {
   "cell_type": "code",
   "execution_count": 2,
   "metadata": {},
   "outputs": [
    {
     "name": "stdout",
     "output_type": "stream",
     "text": [
      "8\n",
      "8\n"
     ]
    }
   ],
   "source": [
    "#sum of the unique value in given list\n",
    "given_list1 = [1, 4, 3, 1, 3]\n",
    "new_set1 = set()\n",
    "final_sum = 0\n",
    "\n",
    "for x in given_list1:\n",
    "    new_set1.add(x)\n",
    "\n",
    "for element in new_set1:\n",
    "    final_sum += element\n",
    "\n",
    "print(final_sum)\n",
    "\n",
    "#best practise for sum element in set\n",
    "best_total = sum(new_set1)\n",
    "print(best_total)"
   ]
  },
  {
   "cell_type": "code",
   "execution_count": null,
   "metadata": {},
   "outputs": [],
   "source": []
  }
 ],
 "metadata": {
  "kernelspec": {
   "display_name": "Python 3",
   "language": "python",
   "name": "python3"
  },
  "language_info": {
   "codemirror_mode": {
    "name": "ipython",
    "version": 3
   },
   "file_extension": ".py",
   "mimetype": "text/x-python",
   "name": "python",
   "nbconvert_exporter": "python",
   "pygments_lexer": "ipython3",
   "version": "3.7.3"
  }
 },
 "nbformat": 4,
 "nbformat_minor": 2
}
